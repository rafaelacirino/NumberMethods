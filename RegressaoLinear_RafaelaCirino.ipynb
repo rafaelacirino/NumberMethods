{
  "nbformat": 4,
  "nbformat_minor": 0,
  "metadata": {
    "colab": {
      "name": "RegressaoLinear_RafaelaCirino.ipynb",
      "provenance": [],
      "collapsed_sections": [],
      "authorship_tag": "ABX9TyMEzSkDkH0hqYg1edSbTzxv",
      "include_colab_link": true
    },
    "kernelspec": {
      "name": "python3",
      "display_name": "Python 3"
    },
    "language_info": {
      "name": "python"
    }
  },
  "cells": [
    {
      "cell_type": "markdown",
      "metadata": {
        "id": "view-in-github",
        "colab_type": "text"
      },
      "source": [
        "<a href=\"https://colab.research.google.com/github/rafaelacirino/NumberMethods/blob/main/RegressaoLinear_RafaelaCirino.ipynb\" target=\"_parent\"><img src=\"https://colab.research.google.com/assets/colab-badge.svg\" alt=\"Open In Colab\"/></a>"
      ]
    },
    {
      "cell_type": "markdown",
      "source": [
        "# <center>__MÉTODOS NUMÉRICOS__</center>\n",
        "## <center>__PROJETO DA UNIDADE 2__</center>\n",
        "### <center>PREDIÇÃO DE DADOS DE SAÚDE USANDO REGRESSÃO LINEAR</center>\n",
        "#### <center>__ALUNO: Rafaela Borba Falcão Cirino__</center>"
      ],
      "metadata": {
        "id": "4M9Wy5uOxgL0"
      }
    },
    {
      "cell_type": "markdown",
      "source": [
        "<div class=\"alert alert-block alert-info\">\n",
        "1. INTRODUÇÃO\n",
        "</div>"
      ],
      "metadata": {
        "id": "AEtnVvkgxPsI"
      }
    },
    {
      "cell_type": "markdown",
      "source": [
        "<p>Como bem define Souza (2001) a análise de regressão compreende analisar dados amaostrais com o intuito de identificar como duas variáveis relacionam-se umas com as outras. A análise de regressão tem como resultado uma equação matemática que descreve o relacionamento entre essas variáveis e pode ser usada para estimar ou predizer, valores futuros de uma variável quando se conhecem ou se supõem conhecidos valores de outra variável.</p>\n",
        "<p>O aprendizado de máquina surgiu com o intuito de suprir diversas necessidades, dentre elas a predição de valores. O qual a regressão linear é um desses modelos de aprendizado de máquinas.</p>\n",
        "<p>A requessão linear tem como objetivo tratar de um valor que não se consegue mensurar no início. Neste projeto, será utilizada a Regressão Linear com o intuito de analisar conjunto de dados de pacientes com diabetes. Os dados são compostos de  442 amostras e 10 variáveis, sendo a variável dependente uma medida quantitativa da progressão da doença um ano após o diagnóstico.</p>"
      ],
      "metadata": {
        "id": "sbXxNFMIxlFZ"
      }
    },
    {
      "cell_type": "markdown",
      "source": [
        "<div class=\"alert alert-block alert-info\">\n",
        "2. DESCRIÇÃO DO PROBLEMA\n",
        "</div>"
      ],
      "metadata": {
        "id": "n_woIXflxoAK"
      }
    },
    {
      "cell_type": "markdown",
      "source": [
        "<p>Por ser a regressão linear um método da álgebra, ela visa modelar uma relação entre uma ou mais variáveis independentes e uma variável dependente. A regressão linear pode ser do tipo simples (quando lida com appenas uma variável independente), ou múltipla, também pode chamar-se multivariada (lida com duas ou mais variáveis independentes). A classificação da regressão linear depende, desta forma, da quantidade de variáveis independentes que a função possui.</p>\n",
        "<p>Como objetivo primordial, a regressão linear simples busca encontrar os coeficientes de uma função linear a partir da relação entre variável dependente y e a variável independente x.</p>\n",
        "<p>Percebe-se que a equação de regressão linear resulta em:</p>\n",
        "<p>y = bO + b1.X</p>\n",
        "<ol>\n",
        "  <li>y: variável dependente ou valor previsto;</li>\n",
        "  <li>x: variável independente ou variável preditora;</li>\n",
        "  <li>bO: coeficiente que intercepta ou que corta o eixo y;</li>\n",
        "  <li>b1: coeficiente que define a inclinação da reta.</li>\n",
        "</ol>"
      ],
      "metadata": {
        "id": "JUDzheV606Jt"
      }
    },
    {
      "cell_type": "markdown",
      "source": [
        "<div class=\"alert alert-block alert-info\">\n",
        "3. MÉTODOS APLICADOS À SOLUÇÃO\n",
        "</div>"
      ],
      "metadata": {
        "id": "eDC6ajuaxrBJ"
      }
    },
    {
      "cell_type": "markdown",
      "source": [
        "<p>Há inúmeros algoritmos que solucionam problemas de regressão linear. Neste projeto serão demonstrados os métodos Cholesky, fatoração QR e SVD.</p>\n",
        "<p><strong> Solução Ingênua</strong></p>\n",
        "<p>Dentre os métodos elencados, é o mais simples daregressão linear. Implementa a forma mais simples das equações normais.</p>\n",
        "<p>x = (A^TA)^-1A^Tb</p>\n",
        "<p><strong>Cholesky</strong></p>\n",
        "<p>Utiliza o memso princípio d efuncionamento do método da decomposição LU. Tem como implementação a fatoração da matriz A em outras duas matrizes, sendo uma triangular inferior e outra superior. Esse tipo de regressão resolve equações normais do tipo A^T Ax = A^Tb utilizando a matriz pseu-inversa de Moore-Penrose, ou matriz inversa generalizada.</p>\n",
        "<p><strong>Fatoração QR</strong></p>\n",
        "<p>Decompõe uma matriz em um produto A = QR, Onde Q(mxm) é uma matriz ortogonal e R(mxn) é uma matriz triangular superior. A fatoração QR é usada para resolver problemas de mínimos quadrados linear e é base para determinado algoritmo de autovalores, o algoritmo QR.</p>\n",
        "<p><strong>SVD</strong></p>\n",
        "<p>SVD traduz-se como decomposição em valores singulares. Consiste na decomposição da matriz em um produto onde A = 𝑈Σ𝑉. Onde:</p>\n",
        "<p>Ax = b</p>\n",
        "<p>Sendno A = 𝑈Σ𝑉, portanto:</p>\n",
        "<p>𝑈Σ𝑉 = b</p>\n",
        "<p>Σ𝑉x = 𝑈^𝑇𝑏</p>\n",
        "<p>Então:</p>\n",
        "<p>Σ𝑤=𝑈^𝑇𝑏 , sendo o resultado final da regressão linear.</p>\n"
      ],
      "metadata": {
        "id": "Bb6HpI1v_M19"
      }
    },
    {
      "cell_type": "markdown",
      "source": [
        "<div class=\"alert alert-block alert-info\">\n",
        "4. IMPLEMENTAÇÃO\n",
        "</div>"
      ],
      "metadata": {
        "id": "lx-UqhNQxt4R"
      }
    },
    {
      "cell_type": "markdown",
      "source": [
        "<p>Importações necessárias</p>"
      ],
      "metadata": {
        "id": "HU7jv1x54s8k"
      }
    },
    {
      "cell_type": "code",
      "source": [
        "import numpy as np\n",
        "import scipy as sp"
      ],
      "metadata": {
        "id": "IJH7EHfE4xhr"
      },
      "execution_count": 23,
      "outputs": []
    },
    {
      "cell_type": "markdown",
      "source": [
        "*   Solução ingênua:\n",
        "\n",
        "x = (𝐴^T𝐴)−1𝐴𝑇𝑏"
      ],
      "metadata": {
        "id": "Y7wwVj4x40l0"
      }
    },
    {
      "cell_type": "code",
      "source": [
        "def ls_naive(A, b):\n",
        "    return np.linalg.inv(A.T @ A) @ A.T @ b"
      ],
      "metadata": {
        "id": "3lh2Uxic58-l"
      },
      "execution_count": 24,
      "outputs": []
    },
    {
      "cell_type": "markdown",
      "source": [
        "*   Cholesky\n",
        "\n",
        "\n",
        "𝐴=𝐿𝐿^𝑇"
      ],
      "metadata": {
        "id": "bfvkxJv75_cC"
      }
    },
    {
      "cell_type": "code",
      "source": [
        "def ls_chol(A, b):\n",
        "    R = sp.linalg.cholesky(A.T @ A)\n",
        "    \n",
        "    w = sp.linalg.solve_triangular(R, A.T @ b, trans='T')    \n",
        "    \n",
        "    return sp.linalg.solve_triangular(R, w)"
      ],
      "metadata": {
        "id": "RRJVMm8L6Gb6"
      },
      "execution_count": 25,
      "outputs": []
    },
    {
      "cell_type": "markdown",
      "source": [
        "\n",
        "*   Fatoração QR\n",
        "\n",
        "𝐴=𝑄𝑅"
      ],
      "metadata": {
        "id": "Ks9R7-E66NKl"
      }
    },
    {
      "cell_type": "code",
      "source": [
        "def ls_qr(A,b):\n",
        "    Q, R = sp.linalg.qr(A, mode='economic')\n",
        "    \n",
        "    return sp.linalg.solve_triangular(R, Q.T @ b)"
      ],
      "metadata": {
        "id": "qGyB5duV6jth"
      },
      "execution_count": 26,
      "outputs": []
    },
    {
      "cell_type": "markdown",
      "source": [
        "\n",
        "\n",
        "*   SVD\n",
        "\n",
        "      𝐴=𝑈Σ𝑉\n",
        "\n"
      ],
      "metadata": {
        "id": "FwVovqax6zoD"
      }
    },
    {
      "cell_type": "code",
      "source": [
        "def ls_svd(A,b):\n",
        "    U, sigma, Vh = sp.linalg.svd(A, full_matrices=False, lapack_driver='gesdd')\n",
        "    w = (U.T @ b)/ sigma\n",
        "    \n",
        "    return Vh.T @ w"
      ],
      "metadata": {
        "id": "w75TBuVk7XHt"
      },
      "execution_count": 27,
      "outputs": []
    },
    {
      "cell_type": "markdown",
      "source": [
        "<div class=\"alert alert-block alert-info\">\n",
        "5. CASOS DE USO\n",
        "</div>"
      ],
      "metadata": {
        "id": "0mk6heldxwoe"
      }
    },
    {
      "cell_type": "markdown",
      "source": [
        "\n",
        "\n",
        "*   Como mencionado anteriormente, serão analisados os dados de planos de saúde.\n",
        "*   Serão implementados inicialmente os métodos os quais serão aplicadas a Regressão Linear.\n",
        "\n"
      ],
      "metadata": {
        "id": "tjIkERew9Dbm"
      }
    },
    {
      "cell_type": "code",
      "source": [
        "from sklearn import datasets, linear_model\n",
        "from sklearn.model_selection import train_test_split\n",
        "from sklearn.preprocessing import PolynomialFeatures"
      ],
      "metadata": {
        "id": "AZKtxE399Yh4"
      },
      "execution_count": 28,
      "outputs": []
    },
    {
      "cell_type": "code",
      "source": [
        "np.set_printoptions(precision=6)\n",
        "\n",
        "data = datasets.load_diabetes()\n",
        "\n",
        "feature_names=['age', 'sex', 'bmi', 'bp', 's1', 's2', 's3', 's4', 's5', 's6']\n",
        "\n",
        "trn,test,y_trn,y_test = train_test_split(data.data, data.target, test_size=0.2)\n",
        "\n",
        "trn_int = np.c_[trn, np.ones(trn.shape[0])]"
      ],
      "metadata": {
        "id": "XmQ2hkoJ9f1J"
      },
      "execution_count": 29,
      "outputs": []
    },
    {
      "cell_type": "code",
      "source": [
        "coeffs_naive = ls_naive(trn_int, y_trn)\n",
        "coeffs_naive"
      ],
      "metadata": {
        "colab": {
          "base_uri": "https://localhost:8080/"
        },
        "id": "Yg5CX7HQ9dX7",
        "outputId": "57fb996c-919a-4f9a-a8fd-688097f6df40"
      },
      "execution_count": 30,
      "outputs": [
        {
          "output_type": "execute_result",
          "data": {
            "text/plain": [
              "array([   8.59575 , -239.237457,  449.067916,  338.959978, -504.59826 ,\n",
              "        315.084659,  -59.011685,   29.776676,  661.076961,   50.479282,\n",
              "        150.172674])"
            ]
          },
          "metadata": {},
          "execution_count": 30
        }
      ]
    },
    {
      "cell_type": "code",
      "source": [
        "coeffs_chol = ls_chol(trn_int, y_trn)\n",
        "coeffs_chol"
      ],
      "metadata": {
        "colab": {
          "base_uri": "https://localhost:8080/"
        },
        "id": "wM2Dk92G97wZ",
        "outputId": "32683ff4-1322-46f1-bf91-c8eb4db5c65d"
      },
      "execution_count": 31,
      "outputs": [
        {
          "output_type": "execute_result",
          "data": {
            "text/plain": [
              "array([   8.59575 , -239.237457,  449.067916,  338.959978, -504.59826 ,\n",
              "        315.084659,  -59.011685,   29.776676,  661.076961,   50.479282,\n",
              "        150.172674])"
            ]
          },
          "metadata": {},
          "execution_count": 31
        }
      ]
    },
    {
      "cell_type": "code",
      "source": [
        "coeffs_qr = ls_qr(trn_int, y_trn)\n",
        "coeffs_qr"
      ],
      "metadata": {
        "colab": {
          "base_uri": "https://localhost:8080/"
        },
        "id": "QEHLsjS09_4y",
        "outputId": "d5ab94ac-5574-473b-af46-f9ab2408dc6e"
      },
      "execution_count": 32,
      "outputs": [
        {
          "output_type": "execute_result",
          "data": {
            "text/plain": [
              "array([   8.59575 , -239.237457,  449.067916,  338.959978, -504.59826 ,\n",
              "        315.084659,  -59.011685,   29.776676,  661.076961,   50.479282,\n",
              "        150.172674])"
            ]
          },
          "metadata": {},
          "execution_count": 32
        }
      ]
    },
    {
      "cell_type": "code",
      "source": [
        "coeffs_svd = ls_svd(trn_int, y_trn)\n",
        "coeffs_svd"
      ],
      "metadata": {
        "colab": {
          "base_uri": "https://localhost:8080/"
        },
        "id": "71j0YOUF-BOZ",
        "outputId": "a8950e57-27b9-4e48-bc3e-9d7df54c2c1a"
      },
      "execution_count": 33,
      "outputs": [
        {
          "output_type": "execute_result",
          "data": {
            "text/plain": [
              "array([   8.59575 , -239.237457,  449.067916,  338.959978, -504.59826 ,\n",
              "        315.084659,  -59.011685,   29.776676,  661.076961,   50.479282,\n",
              "        150.172674])"
            ]
          },
          "metadata": {},
          "execution_count": 33
        }
      ]
    },
    {
      "cell_type": "markdown",
      "source": [
        "\n",
        "\n",
        "*   Definição do conjunto de dados de habitação na Califórnia\n",
        "\n"
      ],
      "metadata": {
        "id": "auJa9VS2-G3-"
      }
    },
    {
      "cell_type": "code",
      "source": [
        "np.set_printoptions(precision=6)\n",
        "\n",
        "data = datasets.fetch_california_housing()\n",
        "\n",
        "feature_names=['MedInc', 'HouseAge', 'AveRooms', 'AveBedrms', 'Population', 'AveOccup', 'Latitutde', 'Longitude']\n",
        "\n",
        "trn,test,y_trn,y_test = train_test_split(data.data, data.target, test_size=0.2)\n",
        "\n",
        "trn_int = np.c_[trn, np.ones(trn.shape[0])]"
      ],
      "metadata": {
        "id": "cBYDDY0W-DfT"
      },
      "execution_count": 34,
      "outputs": []
    },
    {
      "cell_type": "code",
      "source": [
        "coeffs_naive = ls_naive(trn_int, y_trn)\n",
        "coeffs_naive"
      ],
      "metadata": {
        "colab": {
          "base_uri": "https://localhost:8080/"
        },
        "id": "17utZUZt-RFH",
        "outputId": "b762cb79-e0af-4525-d53f-0f89477c6b2d"
      },
      "execution_count": 35,
      "outputs": [
        {
          "output_type": "execute_result",
          "data": {
            "text/plain": [
              "array([ 4.326087e-01,  9.493077e-03, -1.005346e-01,  6.162046e-01,\n",
              "       -4.661642e-06, -3.414303e-03, -4.254021e-01, -4.379011e-01,\n",
              "       -3.719596e+01])"
            ]
          },
          "metadata": {},
          "execution_count": 35
        }
      ]
    },
    {
      "cell_type": "code",
      "source": [
        "coeffs_chol = ls_chol(trn_int, y_trn)\n",
        "coeffs_chol"
      ],
      "metadata": {
        "colab": {
          "base_uri": "https://localhost:8080/"
        },
        "id": "o3y87DaM-S48",
        "outputId": "d6978955-d4ba-4a45-dbc1-95f73396c834"
      },
      "execution_count": 36,
      "outputs": [
        {
          "output_type": "execute_result",
          "data": {
            "text/plain": [
              "array([ 4.326087e-01,  9.493077e-03, -1.005346e-01,  6.162046e-01,\n",
              "       -4.661642e-06, -3.414303e-03, -4.254021e-01, -4.379011e-01,\n",
              "       -3.719596e+01])"
            ]
          },
          "metadata": {},
          "execution_count": 36
        }
      ]
    },
    {
      "cell_type": "code",
      "source": [
        "coeffs_qr = ls_qr(trn_int, y_trn)\n",
        "coeffs_qr"
      ],
      "metadata": {
        "colab": {
          "base_uri": "https://localhost:8080/"
        },
        "id": "lvXFZhYB-VF7",
        "outputId": "c898c643-54b6-445f-967d-16fb1cc64005"
      },
      "execution_count": 37,
      "outputs": [
        {
          "output_type": "execute_result",
          "data": {
            "text/plain": [
              "array([ 4.326087e-01,  9.493077e-03, -1.005346e-01,  6.162046e-01,\n",
              "       -4.661642e-06, -3.414303e-03, -4.254021e-01, -4.379011e-01,\n",
              "       -3.719596e+01])"
            ]
          },
          "metadata": {},
          "execution_count": 37
        }
      ]
    },
    {
      "cell_type": "markdown",
      "source": [
        "\n",
        "\n",
        "*   SVD\n",
        "\n"
      ],
      "metadata": {
        "id": "eI5pPvNa-aGl"
      }
    },
    {
      "cell_type": "code",
      "source": [
        "coeffs_svd = ls_svd(trn_int, y_trn)\n",
        "coeffs_svd"
      ],
      "metadata": {
        "colab": {
          "base_uri": "https://localhost:8080/"
        },
        "id": "XlfzmcC3-YLK",
        "outputId": "0fc3b2c4-b87f-4e50-abcd-0753acca7da5"
      },
      "execution_count": 38,
      "outputs": [
        {
          "output_type": "execute_result",
          "data": {
            "text/plain": [
              "array([ 4.326087e-01,  9.493077e-03, -1.005346e-01,  6.162046e-01,\n",
              "       -4.661642e-06, -3.414303e-03, -4.254021e-01, -4.379011e-01,\n",
              "       -3.719596e+01])"
            ]
          },
          "metadata": {},
          "execution_count": 38
        }
      ]
    },
    {
      "cell_type": "markdown",
      "source": [
        "O resultado final obtido ao final da execução de cada função é o resultado da execução de uma regressão linear em cada conjunto de dados usando cada método descrito neste projeto."
      ],
      "metadata": {
        "id": "rBJY1HY3-l1x"
      }
    }
  ]
}